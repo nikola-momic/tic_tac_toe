{
 "cells": [
  {
   "cell_type": "code",
   "execution_count": null,
   "id": "defda38c-f69d-455c-9b0e-1cb036d9ef82",
   "metadata": {},
   "outputs": [
    {
     "name": "stdout",
     "output_type": "stream",
     "text": [
      "  |   |  \n",
      "---------\n",
      "  |   |  \n",
      "---------\n",
      "  |   |  \n",
      "---------\n",
      "Na redu je igrač X\n"
     ]
    },
    {
     "name": "stdin",
     "output_type": "stream",
     "text": [
      "Unesite broj reda (1-3):  1\n",
      "Unesite broj kolone (1-3):  1\n"
     ]
    },
    {
     "name": "stdout",
     "output_type": "stream",
     "text": [
      "X |   |  \n",
      "---------\n",
      "  |   |  \n",
      "---------\n",
      "  |   |  \n",
      "---------\n",
      "Na redu je igrač O\n"
     ]
    },
    {
     "name": "stdin",
     "output_type": "stream",
     "text": [
      "Unesite broj reda (1-3):  2\n",
      "Unesite broj kolone (1-3):  2\n"
     ]
    },
    {
     "name": "stdout",
     "output_type": "stream",
     "text": [
      "X |   |  \n",
      "---------\n",
      "  | O |  \n",
      "---------\n",
      "  |   |  \n",
      "---------\n",
      "Na redu je igrač X\n"
     ]
    },
    {
     "name": "stdin",
     "output_type": "stream",
     "text": [
      "Unesite broj reda (1-3):  3\n",
      "Unesite broj kolone (1-3):  3\n"
     ]
    },
    {
     "name": "stdout",
     "output_type": "stream",
     "text": [
      "X |   |  \n",
      "---------\n",
      "  | O |  \n",
      "---------\n",
      "  |   | X\n",
      "---------\n",
      "Na redu je igrač O\n"
     ]
    },
    {
     "name": "stdin",
     "output_type": "stream",
     "text": [
      "Unesite broj reda (1-3):  2\n",
      "Unesite broj kolone (1-3):  1\n"
     ]
    },
    {
     "name": "stdout",
     "output_type": "stream",
     "text": [
      "X |   |  \n",
      "---------\n",
      "O | O |  \n",
      "---------\n",
      "  |   | X\n",
      "---------\n",
      "Na redu je igrač X\n"
     ]
    }
   ],
   "source": [
    "#1.pravim tablu \n",
    "#2.proveravam redove, kolone i dijagonale\n",
    "#3.proveravam jel tabla puna\n",
    "#4.pokretanje igre\n",
    "#5.u slucaju da bude nereseno\n",
    "\n",
    "\n",
    "def prikazi_tablu(tabla):\n",
    "    for red in tabla:\n",
    "        print(\" | \".join(red))\n",
    "        print(\"-\" * 9)\n",
    "\n",
    "def proveri_pobednika(tabla, igrac):\n",
    "    for i in range(3):\n",
    "        if all([cell == igrac for cell in tabla[i]]): \n",
    "            return True\n",
    "        if all([tabla[j][i] == igrac for j in range(3)]): \n",
    "            return True\n",
    "    if all([tabla[i][i] == igrac for i in range(3)]) or all([tabla[i][2 - i] == igrac for i in range(3)]): \n",
    "        return True\n",
    "    return False\n",
    "\n",
    "def iks_oks():\n",
    "    tabla = [[\" \" for _ in range(3)] for _ in range(3)]\n",
    "    igrac = \"X\"\n",
    "    \n",
    "    for potez in range(9):\n",
    "        prikazi_tablu(tabla)\n",
    "        print(f\"Na redu je igrač {igrac}\")\n",
    "        \n",
    "        while True:\n",
    "            try:\n",
    "                red = int(input(\"Unesite broj reda (1-3): \")) - 1\n",
    "                kolona = int(input(\"Unesite broj kolone (1-3): \")) - 1\n",
    "                if tabla[red][kolona] == \" \":\n",
    "                    tabla[red][kolona] = igrac\n",
    "                    break\n",
    "                else:\n",
    "                    print(\"Polje je zauzeto, pokušajte ponovo.\")\n",
    "            except (ValueError, IndexError):\n",
    "                print(\"Pogrešan unos, pokušajte ponovo.\")\n",
    "        \n",
    "        if proveri_pobednika(tabla, igrac):\n",
    "            prikazi_tablu(tabla)\n",
    "            print(f\"Igrač {igrac} je pobedio!\")\n",
    "            return\n",
    "\n",
    "    \n",
    "        igrac = \"O\" if igrac == \"X\" else \"X\"\n",
    "    \n",
    "    prikazi_tablu(tabla)\n",
    "    print(\"Igra je nerešena.\")\n",
    "\n",
    "iks_oks()"
   ]
  }
 ],
 "metadata": {
  "kernelspec": {
   "display_name": "Python 3 (ipykernel)",
   "language": "python",
   "name": "python3"
  },
  "language_info": {
   "codemirror_mode": {
    "name": "ipython",
    "version": 3
   },
   "file_extension": ".py",
   "mimetype": "text/x-python",
   "name": "python",
   "nbconvert_exporter": "python",
   "pygments_lexer": "ipython3",
   "version": "3.10.10"
  }
 },
 "nbformat": 4,
 "nbformat_minor": 5
}
